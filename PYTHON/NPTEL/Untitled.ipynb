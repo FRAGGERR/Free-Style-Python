{
 "cells": [
  {
   "cell_type": "code",
   "execution_count": 1,
   "id": "79cfec31",
   "metadata": {},
   "outputs": [],
   "source": [
    "import os"
   ]
  },
  {
   "cell_type": "markdown",
   "id": "45546be1",
   "metadata": {},
   "source": [
    "# here os is a python library which help us to connect our ide to our terminal"
   ]
  },
  {
   "cell_type": "raw",
   "id": "791d14e9",
   "metadata": {},
   "source": []
  }
 ],
 "metadata": {
  "kernelspec": {
   "display_name": "Python 3 (ipykernel)",
   "language": "python",
   "name": "python3"
  },
  "language_info": {
   "codemirror_mode": {
    "name": "ipython",
    "version": 3
   },
   "file_extension": ".py",
   "mimetype": "text/x-python",
   "name": "python",
   "nbconvert_exporter": "python",
   "pygments_lexer": "ipython3",
   "version": "3.11.3"
  }
 },
 "nbformat": 4,
 "nbformat_minor": 5
}
